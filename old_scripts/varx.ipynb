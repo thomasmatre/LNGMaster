{
 "cells": [
  {
   "cell_type": "code",
   "execution_count": 14,
   "metadata": {},
   "outputs": [],
   "source": [
    "import pandas as pd\n",
    "import numpy as np\n",
    "import matplotlib.pyplot as plt\n",
    "from statsmodels.tsa.api import VAR\n",
    "from statsmodels.tsa.stattools import adfuller\n",
    "from sklearn.preprocessing import StandardScaler\n",
    "from sklearn.metrics import mean_squared_error\n"
   ]
  },
  {
   "cell_type": "code",
   "execution_count": 15,
   "metadata": {},
   "outputs": [],
   "source": [
    "# Endogenous (dependent): What you want to model\n",
    "endog_cols = [\n",
    "    'LNG 174K CBM (2-stroke dual fuel) Spot Rate\\n(avg., $/day)',\n",
    "    'LNG Capacity (CBM)',\n",
    "    'Spread\\nEU-US', 'Spread\\nASIA-US', 'Spread\\nASIA-EU'\n",
    "]\n",
    "# Exogenous (independent): External factors\n",
    "exog_cols = [\n",
    "    'Global price of Natural Gas, Asia (start month, MMBTU)',\n",
    "    'Global price of Natural Gas, EU (start month, MMBTU)',\n",
    "    'Global price of Natural Gas, US Henry Hub (start month, MMBTU)'\n",
    "]\n",
    "\n",
    "# Reload full dataset (before column drops)\n",
    "data = pd.read_csv(\"datatest_3.csv\")\n",
    "data['Date'] = pd.to_datetime(data['Date'], format=\"%b-%Y\")\n",
    "data.set_index('Date', inplace=True)\n",
    "data = data.apply(pd.to_numeric, errors='coerce')\n",
    "data.dropna(inplace=True)\n",
    "\n",
    "# Split\n",
    "endog = data[endog_cols]\n",
    "exog = data[exog_cols]\n"
   ]
  },
  {
   "cell_type": "code",
   "execution_count": 16,
   "metadata": {},
   "outputs": [
    {
     "name": "stderr",
     "output_type": "stream",
     "text": [
      "/var/folders/q_/5f9r9hrn7fgg50f9b9171j940000gn/T/ipykernel_14902/1918674293.py:4: SettingWithCopyWarning: \n",
      "A value is trying to be set on a copy of a slice from a DataFrame.\n",
      "Try using .loc[row_indexer,col_indexer] = value instead\n",
      "\n",
      "See the caveats in the documentation: https://pandas.pydata.org/pandas-docs/stable/user_guide/indexing.html#returning-a-view-versus-a-copy\n",
      "  df[col] = df[col].diff()\n",
      "/var/folders/q_/5f9r9hrn7fgg50f9b9171j940000gn/T/ipykernel_14902/1918674293.py:4: SettingWithCopyWarning: \n",
      "A value is trying to be set on a copy of a slice from a DataFrame.\n",
      "Try using .loc[row_indexer,col_indexer] = value instead\n",
      "\n",
      "See the caveats in the documentation: https://pandas.pydata.org/pandas-docs/stable/user_guide/indexing.html#returning-a-view-versus-a-copy\n",
      "  df[col] = df[col].diff()\n",
      "/var/folders/q_/5f9r9hrn7fgg50f9b9171j940000gn/T/ipykernel_14902/1918674293.py:4: SettingWithCopyWarning: \n",
      "A value is trying to be set on a copy of a slice from a DataFrame.\n",
      "Try using .loc[row_indexer,col_indexer] = value instead\n",
      "\n",
      "See the caveats in the documentation: https://pandas.pydata.org/pandas-docs/stable/user_guide/indexing.html#returning-a-view-versus-a-copy\n",
      "  df[col] = df[col].diff()\n",
      "/var/folders/q_/5f9r9hrn7fgg50f9b9171j940000gn/T/ipykernel_14902/1918674293.py:5: SettingWithCopyWarning: \n",
      "A value is trying to be set on a copy of a slice from a DataFrame\n",
      "\n",
      "See the caveats in the documentation: https://pandas.pydata.org/pandas-docs/stable/user_guide/indexing.html#returning-a-view-versus-a-copy\n",
      "  df.dropna(inplace=True)\n",
      "/var/folders/q_/5f9r9hrn7fgg50f9b9171j940000gn/T/ipykernel_14902/1918674293.py:4: SettingWithCopyWarning: \n",
      "A value is trying to be set on a copy of a slice from a DataFrame.\n",
      "Try using .loc[row_indexer,col_indexer] = value instead\n",
      "\n",
      "See the caveats in the documentation: https://pandas.pydata.org/pandas-docs/stable/user_guide/indexing.html#returning-a-view-versus-a-copy\n",
      "  df[col] = df[col].diff()\n",
      "/var/folders/q_/5f9r9hrn7fgg50f9b9171j940000gn/T/ipykernel_14902/1918674293.py:4: SettingWithCopyWarning: \n",
      "A value is trying to be set on a copy of a slice from a DataFrame.\n",
      "Try using .loc[row_indexer,col_indexer] = value instead\n",
      "\n",
      "See the caveats in the documentation: https://pandas.pydata.org/pandas-docs/stable/user_guide/indexing.html#returning-a-view-versus-a-copy\n",
      "  df[col] = df[col].diff()\n",
      "/var/folders/q_/5f9r9hrn7fgg50f9b9171j940000gn/T/ipykernel_14902/1918674293.py:4: SettingWithCopyWarning: \n",
      "A value is trying to be set on a copy of a slice from a DataFrame.\n",
      "Try using .loc[row_indexer,col_indexer] = value instead\n",
      "\n",
      "See the caveats in the documentation: https://pandas.pydata.org/pandas-docs/stable/user_guide/indexing.html#returning-a-view-versus-a-copy\n",
      "  df[col] = df[col].diff()\n",
      "/var/folders/q_/5f9r9hrn7fgg50f9b9171j940000gn/T/ipykernel_14902/1918674293.py:5: SettingWithCopyWarning: \n",
      "A value is trying to be set on a copy of a slice from a DataFrame\n",
      "\n",
      "See the caveats in the documentation: https://pandas.pydata.org/pandas-docs/stable/user_guide/indexing.html#returning-a-view-versus-a-copy\n",
      "  df.dropna(inplace=True)\n"
     ]
    }
   ],
   "source": [
    "for df in [endog, exog]:\n",
    "    for col in df.columns:\n",
    "        if adfuller(df[col])[1] > 0.05:\n",
    "            df[col] = df[col].diff()\n",
    "    df.dropna(inplace=True)\n",
    "\n",
    "endog, exog = endog.align(exog, join='inner', axis=0)\n"
   ]
  },
  {
   "cell_type": "code",
   "execution_count": 17,
   "metadata": {},
   "outputs": [],
   "source": [
    "endog_scaler = StandardScaler()\n",
    "exog_scaler = StandardScaler()\n",
    "\n",
    "endog_scaled = pd.DataFrame(endog_scaler.fit_transform(endog), index=endog.index, columns=endog.columns)\n",
    "exog_scaled = pd.DataFrame(exog_scaler.fit_transform(exog), index=exog.index, columns=exog.columns)\n"
   ]
  },
  {
   "cell_type": "code",
   "execution_count": 18,
   "metadata": {},
   "outputs": [],
   "source": [
    "train_size = int(len(endog_scaled) * 0.9)\n",
    "\n",
    "endog_train, endog_test = endog_scaled.iloc[:train_size], endog_scaled.iloc[train_size:]\n",
    "exog_train, exog_test = exog_scaled.iloc[:train_size], exog_scaled.iloc[train_size:]\n"
   ]
  },
  {
   "cell_type": "code",
   "execution_count": 23,
   "metadata": {},
   "outputs": [
    {
     "name": "stderr",
     "output_type": "stream",
     "text": [
      "/Library/Frameworks/Python.framework/Versions/3.13/lib/python3.13/site-packages/statsmodels/tsa/base/tsa_model.py:473: ValueWarning: No frequency information was provided, so inferred frequency MS will be used.\n",
      "  self._init_dates(dates, freq)\n"
     ]
    },
    {
     "ename": "TypeError",
     "evalue": "VAR.fit() got an unexpected keyword argument 'exog'",
     "output_type": "error",
     "traceback": [
      "\u001b[31m---------------------------------------------------------------------------\u001b[39m",
      "\u001b[31mTypeError\u001b[39m                                 Traceback (most recent call last)",
      "\u001b[36mCell\u001b[39m\u001b[36m \u001b[39m\u001b[32mIn[23]\u001b[39m\u001b[32m, line 2\u001b[39m\n\u001b[32m      1\u001b[39m model = VAR(endog_train)\n\u001b[32m----> \u001b[39m\u001b[32m2\u001b[39m model_fit = \u001b[43mmodel\u001b[49m\u001b[43m.\u001b[49m\u001b[43mfit\u001b[49m\u001b[43m(\u001b[49m\u001b[43mmaxlags\u001b[49m\u001b[43m=\u001b[49m\u001b[32;43m5\u001b[39;49m\u001b[43m,\u001b[49m\u001b[43m \u001b[49m\u001b[43mexog\u001b[49m\u001b[43m=\u001b[49m\u001b[43mexog_train\u001b[49m\u001b[43m)\u001b[49m  \u001b[38;5;66;03m# Try different lags if needed\u001b[39;00m\n",
      "\u001b[31mTypeError\u001b[39m: VAR.fit() got an unexpected keyword argument 'exog'"
     ]
    }
   ],
   "source": [
    "model = VAR(endog_train)\n",
    "model_fit = model.fit(maxlags=5, exog=exog_train)  # Try different lags if needed\n"
   ]
  },
  {
   "cell_type": "code",
   "execution_count": 20,
   "metadata": {},
   "outputs": [
    {
     "ename": "NameError",
     "evalue": "name 'model_fit' is not defined",
     "output_type": "error",
     "traceback": [
      "\u001b[31m---------------------------------------------------------------------------\u001b[39m",
      "\u001b[31mNameError\u001b[39m                                 Traceback (most recent call last)",
      "\u001b[36mCell\u001b[39m\u001b[36m \u001b[39m\u001b[32mIn[20]\u001b[39m\u001b[32m, line 1\u001b[39m\n\u001b[32m----> \u001b[39m\u001b[32m1\u001b[39m lag_order = \u001b[43mmodel_fit\u001b[49m.k_ar\n\u001b[32m      2\u001b[39m forecast_input = endog_train.values[-lag_order:]\n\u001b[32m      3\u001b[39m forecast_exog = exog_test.values\n",
      "\u001b[31mNameError\u001b[39m: name 'model_fit' is not defined"
     ]
    }
   ],
   "source": [
    "lag_order = model_fit.k_ar\n",
    "forecast_input = endog_train.values[-lag_order:]\n",
    "forecast_exog = exog_test.values\n",
    "\n",
    "forecast_scaled = model_fit.forecast(y=forecast_input, steps=len(exog_test), exog_future=forecast_exog)\n",
    "\n",
    "# Inverse transform the forecast\n",
    "forecast = pd.DataFrame(endog_scaler.inverse_transform(forecast_scaled), index=endog_test.index, columns=endog.columns)\n"
   ]
  },
  {
   "cell_type": "code",
   "execution_count": 21,
   "metadata": {},
   "outputs": [
    {
     "ename": "NameError",
     "evalue": "name 'forecast' is not defined",
     "output_type": "error",
     "traceback": [
      "\u001b[31m---------------------------------------------------------------------------\u001b[39m",
      "\u001b[31mNameError\u001b[39m                                 Traceback (most recent call last)",
      "\u001b[36mCell\u001b[39m\u001b[36m \u001b[39m\u001b[32mIn[21]\u001b[39m\u001b[32m, line 6\u001b[39m\n\u001b[32m      3\u001b[39m endog_test_original = pd.DataFrame(endog_scaler.inverse_transform(endog_test), index=endog_test.index, columns=endog.columns)\n\u001b[32m      5\u001b[39m \u001b[38;5;28;01mfor\u001b[39;00m col \u001b[38;5;129;01min\u001b[39;00m endog.columns:\n\u001b[32m----> \u001b[39m\u001b[32m6\u001b[39m     mse = mean_squared_error(endog_test_original[col], \u001b[43mforecast\u001b[49m[col])\n\u001b[32m      7\u001b[39m     \u001b[38;5;28mprint\u001b[39m(\u001b[33mf\u001b[39m\u001b[33m\"\u001b[39m\u001b[38;5;132;01m{\u001b[39;00mcol\u001b[38;5;132;01m}\u001b[39;00m\u001b[33m MSE: \u001b[39m\u001b[38;5;132;01m{\u001b[39;00mmse\u001b[38;5;132;01m:\u001b[39;00m\u001b[33m.2f\u001b[39m\u001b[38;5;132;01m}\u001b[39;00m\u001b[33m\"\u001b[39m)\n",
      "\u001b[31mNameError\u001b[39m: name 'forecast' is not defined"
     ]
    }
   ],
   "source": [
    "from sklearn.metrics import mean_squared_error\n",
    "\n",
    "endog_test_original = pd.DataFrame(endog_scaler.inverse_transform(endog_test), index=endog_test.index, columns=endog.columns)\n",
    "\n",
    "for col in endog.columns:\n",
    "    mse = mean_squared_error(endog_test_original[col], forecast[col])\n",
    "    print(f\"{col} MSE: {mse:.2f}\")\n"
   ]
  }
 ],
 "metadata": {
  "kernelspec": {
   "display_name": "Python 3",
   "language": "python",
   "name": "python3"
  },
  "language_info": {
   "codemirror_mode": {
    "name": "ipython",
    "version": 3
   },
   "file_extension": ".py",
   "mimetype": "text/x-python",
   "name": "python",
   "nbconvert_exporter": "python",
   "pygments_lexer": "ipython3",
   "version": "3.13.2"
  }
 },
 "nbformat": 4,
 "nbformat_minor": 2
}
