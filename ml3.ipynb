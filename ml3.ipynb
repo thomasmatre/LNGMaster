{
 "cells": [
  {
   "cell_type": "code",
   "execution_count": 1,
   "id": "1dbf22c2",
   "metadata": {},
   "outputs": [
    {
     "name": "stdout",
     "output_type": "stream",
     "text": [
      "Fitting 3 folds for each of 16 candidates, totalling 48 fits\n",
      "✅ Best Params: {'learning_rate': 0.1, 'max_depth': 3, 'n_estimators': 100, 'subsample': 0.8}\n",
      "📊 MAE: $36,757.08 per day\n",
      "📊 RMSE: $43,251.69 per day\n",
      "🧪 Naive MAE: $9,031.25 per day\n"
     ]
    },
    {
     "name": "stderr",
     "output_type": "stream",
     "text": [
      "/var/folders/q_/5f9r9hrn7fgg50f9b9171j940000gn/T/ipykernel_32899/870151302.py:70: FutureWarning: Series.fillna with 'method' is deprecated and will raise in a future version. Use obj.ffill() or obj.bfill() instead.\n",
      "  naive_pred = y_test.shift(1).fillna(method='bfill')\n"
     ]
    }
   ],
   "source": [
    "import pandas as pd\n",
    "import numpy as np\n",
    "from xgboost import XGBRegressor\n",
    "from sklearn.metrics import mean_absolute_error, mean_squared_error\n",
    "from sklearn.model_selection import GridSearchCV\n",
    "\n",
    "# --- Load & Prepare Data ---\n",
    "file_path = \"cleandata.csv\"\n",
    "df = pd.read_csv(file_path)\n",
    "\n",
    "df['Date'] = pd.to_datetime(df['Date'], format='%b-%Y')\n",
    "df = df.sort_values('Date').set_index('Date')\n",
    "\n",
    "target = 'LNG 174K CBM (2-stroke dual fuel) Spot Rate (avg., $/day)'\n",
    "\n",
    "# --- Feature Engineering ---\n",
    "df['spot_rate_lag_1'] = df[target].shift(1)\n",
    "df['spot_rate_lag_2'] = df[target].shift(2)\n",
    "df['spot_rate_lag_3'] = df[target].shift(3)\n",
    "df['spot_rate_roll3'] = df[target].rolling(3).mean()\n",
    "df['spot_rate_roll6'] = df[target].rolling(6).mean()\n",
    "df['spot_rate_std3'] = df[target].rolling(3).std()\n",
    "df['month'] = df.index.month\n",
    "df['year'] = df.index.year\n",
    "\n",
    "df = df.dropna()\n",
    "\n",
    "# --- Train/Test Split ---\n",
    "cutoff_date = pd.Timestamp(\"2023-12-01\")\n",
    "df_train = df[df.index <= cutoff_date]\n",
    "df_test = df[(df.index > cutoff_date) & (df.index <= \"2024-12-01\")]\n",
    "\n",
    "X_train = df_train.drop(columns=[target])\n",
    "y_train = df_train[target]\n",
    "X_test = df_test.drop(columns=[target])\n",
    "y_test = df_test[target]\n",
    "\n",
    "# --- Grid Search for Best Hyperparameters ---\n",
    "param_grid = {\n",
    "    'n_estimators': [50, 100],\n",
    "    'max_depth': [3, 5],\n",
    "    'learning_rate': [0.05, 0.1],\n",
    "    'subsample': [0.8, 1.0]\n",
    "}\n",
    "\n",
    "grid = GridSearchCV(\n",
    "    estimator=XGBRegressor(random_state=42),\n",
    "    param_grid=param_grid,\n",
    "    scoring='neg_mean_absolute_error',\n",
    "    cv=3,\n",
    "    verbose=1\n",
    ")\n",
    "\n",
    "grid.fit(X_train, y_train)\n",
    "print(\"✅ Best Params:\", grid.best_params_)\n",
    "model = grid.best_estimator_\n",
    "\n",
    "# --- Fit with Early Stopping ---\n",
    "model.set_params(early_stopping_rounds=10, eval_metric='mae')\n",
    "model.fit(X_train, y_train, eval_set=[(X_test, y_test)], verbose=False)\n",
    "\n",
    "# --- Forecast ---\n",
    "y_pred = model.predict(X_test)\n",
    "\n",
    "# --- Evaluation ---\n",
    "mae = mean_absolute_error(y_test, y_pred)\n",
    "rmse = np.sqrt(mean_squared_error(y_test, y_pred))\n",
    "\n",
    "# Naive baseline: predict last value\n",
    "naive_pred = y_test.shift(1).fillna(method='bfill')\n",
    "naive_mae = mean_absolute_error(y_test, naive_pred)\n",
    "\n",
    "print(f\"📊 MAE: ${mae:,.2f} per day\")\n",
    "print(f\"📊 RMSE: ${rmse:,.2f} per day\")\n",
    "print(f\"🧪 Naive MAE: ${naive_mae:,.2f} per day\")\n",
    "\n",
    "# --- Combine for Analysis ---\n",
    "forecast_results = pd.DataFrame({\n",
    "    'Date': y_test.index,\n",
    "    'Actual Spot Rate': y_test.values,\n",
    "    'Predicted Spot Rate': y_pred\n",
    "}).set_index('Date')\n",
    "\n",
    "# Optional: Save or plot\n"
   ]
  }
 ],
 "metadata": {
  "kernelspec": {
   "display_name": "Python 3",
   "language": "python",
   "name": "python3"
  },
  "language_info": {
   "codemirror_mode": {
    "name": "ipython",
    "version": 3
   },
   "file_extension": ".py",
   "mimetype": "text/x-python",
   "name": "python",
   "nbconvert_exporter": "python",
   "pygments_lexer": "ipython3",
   "version": "3.13.2"
  }
 },
 "nbformat": 4,
 "nbformat_minor": 5
}
